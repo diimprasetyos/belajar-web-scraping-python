{
  "nbformat": 4,
  "nbformat_minor": 0,
  "metadata": {
    "colab": {
      "provenance": [],
      "authorship_tag": "ABX9TyPVMY0YbRnseVJmBhVpC3BO",
      "include_colab_link": true
    },
    "kernelspec": {
      "name": "python3",
      "display_name": "Python 3"
    },
    "language_info": {
      "name": "python"
    }
  },
  "cells": [
    {
      "cell_type": "markdown",
      "metadata": {
        "id": "view-in-github",
        "colab_type": "text"
      },
      "source": [
        "<a href=\"https://colab.research.google.com/github/diimprasetyos/belajar-web-scraping-python/blob/main/belajar_scrap_part2.ipynb\" target=\"_parent\"><img src=\"https://colab.research.google.com/assets/colab-badge.svg\" alt=\"Open In Colab\"/></a>"
      ]
    },
    {
      "cell_type": "code",
      "execution_count": 8,
      "metadata": {
        "id": "1Af6E0A9TxXq"
      },
      "outputs": [],
      "source": [
        "import requests\n",
        "from bs4 import BeautifulSoup\n",
        "import json\n",
        "import csv"
      ]
    },
    {
      "cell_type": "code",
      "source": [
        "# api url\n",
        "base_url = 'https://satusehat.kemkes.go.id/platform/api/verification/summary/data-verified'\n",
        "\n",
        "# company list\n",
        "companies = []\n",
        "\n",
        "# request header\n",
        "headers = {\n",
        "    'User-Agent': 'Mozilla/5.0 (Windows NT 10.0; Win64; x64) AppleWebKit/537.36 (KHTML, like Gecko) Chrome/91.0.4472.124 Safari/537.36'\n",
        "}\n",
        "\n",
        "# fetch data 1 page\n",
        "def fetch_data_from_page(page_number):\n",
        "    params = {\n",
        "        'search': '',\n",
        "        'page': page_number,\n",
        "        'perPage': 10,\n",
        "        'category': 'fasyankes'\n",
        "    }\n",
        "\n",
        "    response = requests.get(base_url, headers=headers, params=params)\n",
        "    data = response.json()\n",
        "\n",
        "    for item in data['data']:\n",
        "        name = item.get('nameFacility', 'N/A')\n",
        "        location = item.get('districtDescription','N/A')\n",
        "        category = ', '.join(item.get('typeFacility', ['N/A']))\n",
        "        phone = item.get('phone', 'N/A')\n",
        "        email = item.get('email', 'N/A')\n",
        "\n",
        "        companies.append({\n",
        "            'Nama Mitra': name,\n",
        "            'Lokasi Mitra': location,\n",
        "            'Kategori Mitra': category,\n",
        "            'Nomor Handphone': phone,\n",
        "            'Email': email\n",
        "        })\n",
        "\n",
        "# loop extract data 10 page\n",
        "for page_number in range(1, 11):\n",
        "    fetch_data_from_page(page_number)\n",
        "\n",
        "# save to csv\n",
        "csv_file = 'data_mitra_kemkes.csv'\n",
        "csv_columns = ['Nama Mitra','Lokasi Mitra', 'Kategori Mitra', 'Nomor Handphone', 'Email']\n",
        "\n",
        "try:\n",
        "    with open(csv_file, 'w', newline='', encoding='utf-8') as csvfile:\n",
        "        writer = csv.DictWriter(csvfile, fieldnames=csv_columns)\n",
        "        writer.writeheader()\n",
        "        for company in companies:\n",
        "            writer.writerow(company)\n",
        "    print(f\"Data successfully written to {csv_file}\")\n",
        "except IOError:\n",
        "    print(\"I/O error occurred\")"
      ],
      "metadata": {
        "colab": {
          "base_uri": "https://localhost:8080/"
        },
        "id": "TrOVmF7E7YVa",
        "outputId": "ae636103-cdfb-47f3-aa67-20325f431fb3"
      },
      "execution_count": 10,
      "outputs": [
        {
          "output_type": "stream",
          "name": "stdout",
          "text": [
            "Data successfully written to data_mitra_kemkes.csv\n"
          ]
        }
      ]
    },
    {
      "cell_type": "markdown",
      "source": [
        "# base code"
      ],
      "metadata": {
        "id": "WQaxeg3qG1fL"
      }
    },
    {
      "cell_type": "code",
      "source": [
        "#base code\n",
        "url = 'https://satusehat.kemkes.go.id/platform/system-rme-list'\n",
        "\n",
        "response = requests.get(url)\n",
        "content = response.content\n",
        "\n",
        "soup = BeautifulSoup(content, 'html.parser')\n",
        "\n",
        "#company list\n",
        "companies = []\n",
        "\n",
        "# li element contain class relative wfull\n",
        "company_elements = soup.find_all('li', class_='relative w-full')\n",
        "\n",
        "for company in company_elements:\n",
        "    name = company.find('p', class_='manrope-14-600').text.strip() if company.find('p', class_='manrope-14-600') else 'N/A'\n",
        "    category = company.find('p', class_='manrope-12-400').text.strip() if company.find('p', class_='manrope-12-400') else 'N/A'\n",
        "    phone_element = company.find('a', href=lambda href: href and \"tel:\" in href)\n",
        "    phone = phone_element.text.strip() if phone_element else 'N/A'\n",
        "    email_element = company.find('a', href=lambda href: href and \"mailto:\" in href)\n",
        "    email = email_element.text.strip() if email_element else 'N/A'\n",
        "\n",
        "    companies.append({\n",
        "        'Nama Perusahaan': name,\n",
        "        'Kategori Perusahaan': category,\n",
        "        'Nomor Handphone': phone,\n",
        "        'Email': email\n",
        "    })\n",
        "\n",
        "#result\n",
        "for company in companies:\n",
        "    print(f\"Nama Perusahaan: {company['Nama Perusahaan']}\")\n",
        "    print(f\"Kategori Perusahaan: {company['Kategori Perusahaan']}\")\n",
        "    print(f\"Nomor Handphone: {company['Nomor Handphone']}\")\n",
        "    print(f\"Email: {company['Email']}\")\n",
        "    print('---')\n"
      ],
      "metadata": {
        "colab": {
          "base_uri": "https://localhost:8080/"
        },
        "id": "XUhz-X3JUAcT",
        "outputId": "6670f94b-7f5d-4b83-dd5f-12ed488dca57"
      },
      "execution_count": null,
      "outputs": [
        {
          "output_type": "stream",
          "name": "stdout",
          "text": [
            "Nama Perusahaan: BONA MEDIKA\n",
            "Kategori Perusahaan: Klinik\n",
            "Nomor Handphone: +628128941444\n",
            "Email: admin@bonamedika.com\n",
            "---\n",
            "Nama Perusahaan: Doctor PHC\n",
            "Kategori Perusahaan: Tempat Praktik Mandiri Tenaga Kesehatan\n",
            "Nomor Handphone: +62818438043\n",
            "Email: aplikasi.asb@gmail.com\n",
            "---\n",
            "Nama Perusahaan: praktech\n",
            "Kategori Perusahaan: Tempat Praktik Mandiri Tenaga Kesehatan\n",
            "Nomor Handphone: +6285725038849\n",
            "Email: nurbektiaw@gmail.com\n",
            "---\n",
            "Nama Perusahaan: Pandora\n",
            "Kategori Perusahaan: Rumah Sakit\n",
            "Nomor Handphone: +6281387884881\n",
            "Email: ptanaknegerimedikanusantara@gmail.com\n",
            "---\n",
            "Nama Perusahaan: LIS\n",
            "Kategori Perusahaan: Tempat Praktik Mandiri Tenaga Kesehatan\n",
            "Nomor Handphone: +6285855555322\n",
            "Email: goteknol@gmail.com\n",
            "---\n",
            "Nama Perusahaan: rmc.muezzadev.com\n",
            "Kategori Perusahaan: Klinik\n",
            "Nomor Handphone: +62811666956\n",
            "Email: admin@muezzadev.com\n",
            "---\n",
            "Nama Perusahaan: CLINFOS\n",
            "Kategori Perusahaan: Klinik\n",
            "Nomor Handphone: +627333286255\n",
            "Email: ssecl.linggau@gmail.com\n",
            "---\n",
            "Nama Perusahaan: SIMRS Pandeka\n",
            "Kategori Perusahaan: Rumah Sakit\n",
            "Nomor Handphone: +6281363317034\n",
            "Email: pandekasmart@gmail.com\n",
            "---\n",
            "Nama Perusahaan: DIGIMEDIS\n",
            "Kategori Perusahaan: Klinik\n",
            "Nomor Handphone: +6285322835173\n",
            "Email: pt.inovasimahakarya@gmail.com\n",
            "---\n",
            "Nama Perusahaan: REKAM MEDIS ELEKTRONIK RAWAT JALAN DIVEDEV\n",
            "Kategori Perusahaan: Tempat Praktik Mandiri Tenaga Kesehatan\n",
            "Nomor Handphone: +6281802716686\n",
            "Email: graph21cg@gmail.com\n",
            "---\n"
          ]
        }
      ]
    }
  ]
}